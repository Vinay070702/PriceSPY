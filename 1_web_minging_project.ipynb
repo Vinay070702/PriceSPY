{
  "cells": [
    {
      "cell_type": "code",
      "execution_count": null,
      "metadata": {
        "id": "xG_ZSMJuMhIH"
      },
      "outputs": [],
      "source": [
        " import requests\n",
        "from lxml import html\n",
        "import smtplib, ssl\n",
        "import time\n",
        "from bs4 import BeautifulSoup\n",
        "import pandas as pd\n",
        "import csv\n",
        "from datetime import datetime\n",
        "from google.colab import files\n",
        "import pytz\n",
        "\n"
      ]
    },
    {
      "cell_type": "code",
      "execution_count": null,
      "metadata": {
        "id": "fFtd7Di6NG9p"
      },
      "outputs": [],
      "source": [
        "def check_price(URL):\n",
        "    headers = {\n",
        "        'User-Agent': 'Mozilla/5.0 (Windows NT 10.0; Win64; x64) AppleWebKit/537.36 (KHTML, like Gecko) Chrome/109.0.0.0 Safari/537.36',\n",
        "        'Accept-Encoding':  None\n",
        "    }\n",
        "    \n",
        "    page = requests.get(URL,headers=headers)\n",
        "    tree = html.fromstring(page.content)\n",
        "    \n",
        "    # open devolper option for amazon and note the class name or id name for the price\n",
        "    \n",
        "    price = tree.xpath('//span[@class=\"a-price-whole\"]/text()')[0]\n",
        "    \n",
        "    return int(float(price.replace(',','')))\n"
      ]
    },
    {
      "cell_type": "code",
      "execution_count": null,
      "metadata": {
        "id": "K-JSTEZ5NR1G"
      },
      "outputs": [],
      "source": [
        "def email_price(url,price,site):\n",
        "    \n",
        "    # please read this. As less securtiy option is not working in google. you have to on two step verification and next go to App password and set a password\n",
        "    \n",
        "    # add the mail and password\n",
        "    smtp_server = \"smtp.gmail.com\"\n",
        "    port = 587  # For starttls\n",
        "    \n",
        "    #Enter your mail id\n",
        "    sender_email = \"rahulsandireddy03@gmail.com\"\n",
        "    \n",
        "    # Enter your password\n",
        "    password = \\n",
        "\n",
        "    # Create a secure SSL context\n",
        "    context = ssl.create_default_context()\n",
        "    if(site == \"amazon\"):\n",
        "      pm=pro_name(url)\n",
        "    else:\n",
        "      pm=flip_name(url)\n",
        "    # Try to log in to server and send email\n",
        "    try:\n",
        "        server = smtplib.SMTP(smtp_server, port)\n",
        "        server.ehlo()  # Can be omitted\n",
        "        server.starttls(context=context)  # Secure the connection\n",
        "        server.ehlo()  # Can be omitted\n",
        "        server.login(sender_email, password)\n",
        "        subject = \"Price fell down!\"\n",
        "        body=url\n",
        "        message= f\"Subject: {subject}\\n\\n{pm}\\n\\n{body}\\n\\n present price is {price}\"\n",
        "        server.sendmail(sender_email,sender_email,message)\n",
        "\n",
        "    except Exception as e:\n",
        "        # Print any error messages to stdout\n",
        "        print(e)\n",
        "    finally:\n",
        "        server.quit()\n",
        "\n"
      ]
    },
    {
      "cell_type": "code",
      "execution_count": null,
      "metadata": {
        "id": "PWI33rySNjls"
      },
      "outputs": [],
      "source": [
        "def pro_name(url):\n",
        "  headers = {\n",
        "      'User-Agent': 'Mozilla/5.0 (Windows NT 10.0; Win64; x64) AppleWebKit/537.36 (KHTML, like Gecko) Chrome/109.0.0.0 Safari/537.36',\n",
        "      'Accept-Encoding': None\n",
        "  }     \n",
        "  \n",
        "  response = requests.get(url, headers=headers)\n",
        "  soup = BeautifulSoup(response.text, \"html.parser\")\n",
        "  product_name = soup.find(\"span\", {\"id\": \"productTitle\"}).text.strip()\n",
        "  return product_name\n",
        "\n"
      ]
    },
    {
      "cell_type": "code",
      "execution_count": null,
      "metadata": {
        "id": "fOWhdHPYDqzE"
      },
      "outputs": [],
      "source": [
        "def flip_name(url):\n",
        "  headers = {\n",
        "      'User-Agent': 'Mozilla/5.0 (Windows NT 10.0; Win64; x64) AppleWebKit/537.36 (KHTML, like Gecko) Chrome/109.0.0.0 Safari/537.36',\n",
        "      'Accept-Encoding': None\n",
        "  }     \n",
        "  response = requests.get(url, headers=headers)\n",
        "  soup = BeautifulSoup(response.text, \"html.parser\")\n",
        "  product_name = soup.find(\"span\", {\"class\": \"B_NuCI\"}).text.strip()\n",
        "  return product_name"
      ]
    },
    {
      "cell_type": "code",
      "execution_count": null,
      "metadata": {
        "id": "u7UXhz3jNoqF"
      },
      "outputs": [],
      "source": [
        "\n",
        "def write_to_csv(product_name, price,st):\n",
        "    filename = \"/content/drive/MyDrive/web_mining/Cost/{}.csv\".format(product_name)\n",
        "    headers = ['Date', 'Time', 'Price','Site']\n",
        "\n",
        "    india_tz = pytz.timezone('Asia/Kolkata')\n",
        "    current_time = datetime.now(india_tz)\n",
        "\n",
        "    rows = [[datetime.now().strftime(\"%Y-%m-%d\"), current_time.strftime(\"%H:%M:%S\"), price,st]]\n",
        "    # if the file does not exist, create a new file with headers\n",
        "    try:\n",
        "        with open(filename, 'x') as f:\n",
        "            writer = csv.writer(f)\n",
        "            writer.writerow(headers)\n",
        "            writer.writerows(rows)\n",
        "    except FileExistsError:\n",
        "        # if the file already exists, append new data to it\n",
        "        with open(filename, 'a') as f:\n",
        "            writer = csv.writer(f)\n",
        "            writer.writerows(rows)\n",
        "\n"
      ]
    },
    {
      "cell_type": "code",
      "execution_count": null,
      "metadata": {
        "id": "ESB58axlOW5t"
      },
      "outputs": [],
      "source": [
        "def collect_data(url,pm):\n",
        "    headers = {\n",
        "        'User-Agent': 'Mozilla/5.0 (Windows NT 10.0; Win64; x64) AppleWebKit/537.36 (KHTML, like Gecko) Chrome/103.0.5060.53 Safari/537.36',\n",
        "        'Accept-Encoding': None\n",
        "    }\n",
        "    response = requests.get(url, headers=headers)\n",
        "    soup = BeautifulSoup(response.text, \"html.parser\")\n",
        "\n",
        "    review_section = soup.find(\"div\", {\"id\": \"reviews-medley-footer\"})\n",
        "    review_links = review_section.find_all(\"a\")\n",
        "\n",
        "    for link in review_links:\n",
        "        href = link.get(\"href\")\n",
        "        if href.startswith(\"http\" + \"&pageNumber=\"):\n",
        "            url1 = href + \"&pageNumber=\"\n",
        "        else:\n",
        "            url1 = \"https://www.amazon.in\" + href + \"&pageNumber=\"\n",
        "    # creating the dataframe\n",
        "    cust_name = []\n",
        "    rev_date = []\n",
        "    ratings = []\n",
        "    rev_title = []\n",
        "    rev_content = []\n",
        "    for page in range(1, 50):\n",
        "        new_url = url1 + str(page)\n",
        "        code = requests.get(new_url, headers=headers)\n",
        "        if str(code) == \"<Response [200]>\":\n",
        "            soup = BeautifulSoup(code.content, 'html.parser')\n",
        "            names = soup.select('span.a-profile-name')[2:]\n",
        "            titles = soup.select('a.review-title span')\n",
        "            dates = soup.select('span.review-date')[2:]\n",
        "            stars = soup.select('i.review-rating span.a-icon-alt')[2:]\n",
        "            reviews = soup.select('span.review-text-content span')\n",
        "            h = min(len(titles), len(dates), len(stars), len(reviews))\n",
        "            for i in range(h):\n",
        "                cust_name.append(names[i].get_text())\n",
        "                rev_date.append(dates[i].get_text().replace(\"Reviewed in India on \", \"\"))\n",
        "                ratings.append(stars[i].get_text().replace(\"out of 5 stars\",\"\"))\n",
        "                rev_title.append(titles[i].get_text())\n",
        "                rev_content.append(reviews[i].get_text().strip(\"\\n \"))\n",
        "    df = pd.DataFrame()\n",
        "    df['Customer Name'] = cust_name\n",
        "    df['Date'] = rev_date\n",
        "    df['Ratings'] = ratings\n",
        "    df['Review Title'] = rev_title\n",
        "    df['Reviews'] = rev_content\n",
        "    pm = \"Reviews_\"+pm\n",
        "    filename = \"/content/drive/MyDrive/web_mining/Reviews/{}.csv\".format(pm)\n",
        "    df.to_csv(filename)\n",
        "    from google.colab import files\n",
        "    files.download(filename)\n",
        "    \n"
      ]
    },
    {
      "cell_type": "code",
      "execution_count": null,
      "metadata": {
        "id": "UVUEz9mDNWLk"
      },
      "outputs": [],
      "source": [
        "def repl(pm):\n",
        "    pm=pm.replace(\" \",\"_\")\n",
        "    pm=pm.replace(\"-\",\"_\")\n",
        "    pm=pm.replace(\"/\",\"_\")\n",
        "    pm=pm.replace(\"\\\\\",\"_\")\n",
        "    return pm"
      ]
    },
    {
      "cell_type": "code",
      "execution_count": null,
      "metadata": {
        "id": "kNxo6JSLK0pq"
      },
      "outputs": [],
      "source": [
        "def flip_check_price(url):\n",
        "  headers = {\n",
        "      'User-Agent': 'Mozilla/5.0 (Windows NT 10.0; Win64; x64) AppleWebKit/537.36 (KHTML, like Gecko) Chrome/109.0.0.0 Safari/537.36',\n",
        "      'Accept-Encoding':  None\n",
        "  }\n",
        "  page = requests.get(url,headers=headers)\n",
        "  tree = html.fromstring(page.content)\n",
        "    \n",
        "  # open devolper option for amazon and note the class name or id name for the price\n",
        "    \n",
        "  price = tree.xpath('//div[@class=\"_30jeq3 _16Jk6d\"]/text()')[0]\n",
        "  value_str = price.replace('₹', '').replace(',', '') # remove the rupee symbol\n",
        "  value_int = int(value_str) # convert to integer\n",
        "  return value_int \n",
        "   "
      ]
    },
    {
      "cell_type": "code",
      "execution_count": null,
      "metadata": {
        "colab": {
          "base_uri": "https://localhost:8080/"
        },
        "id": "LYsw6S3cNTo4",
        "outputId": "4c86b579-944e-4fca-9ed3-0632ca2de70a"
      },
      "outputs": [
        {
          "output_type": "stream",
          "name": "stdout",
          "text": [
            "Logitech_B170_Wireless_Mouse,_2.4_GHz_with_USB_Nano_Receiver,_Optical_Tracking,_12_Months_Battery_Life,_Ambidextrous,_PC_Mac_Laptop___Black\n"
          ]
        }
      ],
      "source": [
        "import os\n",
        "amaz_url = \"https://www.amazon.in/Logitech-B170-Wireless-Mouse-Black/dp/B01J0XWYKQ/ref=sr_1_15?brr=1&qid=1680848382&rd=1&sr=8-15\"\n",
        "flip_url= \"https://www.flipkart.com/lenovo-130-wireless-optical-mouse/p/itm4a34f5ec3163d?pid=ACCG5DKG6MJEZJCF&lid=LSTACCG5DKG6MJEZJCF1QSM0V&marketplace=FLIPKART&q=Logitech+B170+Wireless+Mouse&store=6bo%2Fai3%2F2ay&srno=s_1_1&otracker=search&otracker1=search&fm=Search&iid=en_5nypMKT1kBwGFRmFAzFWYP1xAFp8pD7b1oRir%2BEbyKcG1zBAcqorbbRhcYsPo2rVxo%2F9ss%2B30DqCCOQ0zBAIwA%3D%3D&ppt=sp&ppn=sp&ssid=x9m35hwg280000001680849111872&qH=013c322b6dbb4655\"\n",
        "pm = pro_name(amaz_url)\n",
        "pm=repl(pm)\n",
        "filename= \"Reviews_\"+pm\n",
        "filename = \"/content/drive/MyDrive/web_mining/Reviews/{}.csv\".format(filename)\n",
        "if not os.path.exists(filename):\n",
        "  collect_data(amaz_url,pm)\n",
        "print(pm)\n"
      ]
    },
    {
      "cell_type": "code",
      "execution_count": null,
      "metadata": {
        "colab": {
          "base_uri": "https://localhost:8080/",
          "height": 234
        },
        "id": "syEgTo-lr7e_",
        "outputId": "0f38e481-503a-4ecb-acd8-524c864a7011"
      },
      "outputs": [
        {
          "output_type": "stream",
          "name": "stdout",
          "text": [
            "595\n",
            "The mail is sent (amazon)\n"
          ]
        },
        {
          "output_type": "error",
          "ename": "KeyboardInterrupt",
          "evalue": "ignored",
          "traceback": [
            "\u001b[0;31m---------------------------------------------------------------------------\u001b[0m",
            "\u001b[0;31mKeyboardInterrupt\u001b[0m                         Traceback (most recent call last)",
            "\u001b[0;32m<ipython-input-22-985edb095061>\u001b[0m in \u001b[0;36m<cell line: 3>\u001b[0;34m()\u001b[0m\n\u001b[1;32m     23\u001b[0m       \u001b[0mwrite_to_csv\u001b[0m\u001b[0;34m(\u001b[0m\u001b[0mpm\u001b[0m\u001b[0;34m,\u001b[0m \u001b[0mprice1\u001b[0m\u001b[0;34m,\u001b[0m\u001b[0;34m\"flipkart\"\u001b[0m\u001b[0;34m)\u001b[0m\u001b[0;34m\u001b[0m\u001b[0;34m\u001b[0m\u001b[0m\n\u001b[1;32m     24\u001b[0m     \u001b[0mwrite_to_csv\u001b[0m\u001b[0;34m(\u001b[0m\u001b[0mpm\u001b[0m\u001b[0;34m,\u001b[0m \u001b[0mprice\u001b[0m\u001b[0;34m,\u001b[0m\u001b[0;34m\"amazon\"\u001b[0m\u001b[0;34m)\u001b[0m\u001b[0;34m\u001b[0m\u001b[0;34m\u001b[0m\u001b[0m\n\u001b[0;32m---> 25\u001b[0;31m   \u001b[0mtime\u001b[0m\u001b[0;34m.\u001b[0m\u001b[0msleep\u001b[0m\u001b[0;34m(\u001b[0m\u001b[0;34m(\u001b[0m\u001b[0;36m60\u001b[0m\u001b[0;34m*\u001b[0m\u001b[0;36m60\u001b[0m\u001b[0;34m*\u001b[0m\u001b[0;36m4\u001b[0m\u001b[0;34m)\u001b[0m\u001b[0;34m)\u001b[0m\u001b[0;34m\u001b[0m\u001b[0;34m\u001b[0m\u001b[0m\n\u001b[0m",
            "\u001b[0;31mKeyboardInterrupt\u001b[0m: "
          ]
        }
      ],
      "source": [
        "i=0\n",
        "while(True):\n",
        "  price = check_price(amaz_url)\n",
        "  price1 = flip_check_price(flip_url)\n",
        "  if (price <= price1):\n",
        "    if (price) < 70000:\n",
        "      email_price(amaz_url,price,\"amazon\")\n",
        "      print(price)\n",
        "      print(\"The mail is sent (amazon)\")\n",
        "      write_to_csv(pm, price,\"amazon\")\n",
        "    else:\n",
        "      print(\"the price is not decreased\")\n",
        "      write_to_csv(pm, price,\"amazon\")\n",
        "    write_to_csv(pm, price1,\"flipkart\")\n",
        "  else:\n",
        "    if (price1) < 70000:\n",
        "      email_price(flip_url,price1,\"flipkart\")\n",
        "      print(price1)\n",
        "      print(\"The mail is sent (flipkart)\")\n",
        "      write_to_csv(pm, price1,\"flipkart\")\n",
        "    else:\n",
        "      print(\"the price is not decreased\")\n",
        "      write_to_csv(pm, price1,\"flipkart\")\n",
        "    write_to_csv(pm, price,\"amazon\")\n",
        "  time.sleep((60*60*4))"
      ]
    }
  ],
  "metadata": {
    "colab": {
      "provenance": []
    },
    "kernelspec": {
      "display_name": "Python 3",
      "name": "python3"
    },
    "language_info": {
      "name": "python"
    }
  },
  "nbformat": 4,
  "nbformat_minor": 0
}
